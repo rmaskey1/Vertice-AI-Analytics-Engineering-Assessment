{
 "cells": [
  {
   "cell_type": "code",
   "execution_count": 2,
   "metadata": {},
   "outputs": [],
   "source": [
    "import sys\n",
    "import os\n",
    "\n",
    "current_dir = os.getcwd()\n",
    "\n",
    "sys.path.append(os.path.abspath(os.path.join(current_dir, '..')))"
   ]
  },
  {
   "cell_type": "code",
   "execution_count": 3,
   "metadata": {
    "vscode": {
     "languageId": "powershell"
    }
   },
   "outputs": [
    {
     "name": "stdout",
     "output_type": "stream",
     "text": [
      "Defaulting to user installation because normal site-packages is not writeable\n",
      "Requirement already satisfied: pandas in c:\\users\\maske\\appdata\\roaming\\python\\python311\\site-packages (2.2.3)\n",
      "Requirement already satisfied: numpy>=1.23.2 in c:\\users\\maske\\appdata\\roaming\\python\\python311\\site-packages (from pandas) (1.26.4)\n",
      "Requirement already satisfied: python-dateutil>=2.8.2 in c:\\users\\maske\\appdata\\roaming\\python\\python311\\site-packages (from pandas) (2.9.0.post0)\n",
      "Requirement already satisfied: pytz>=2020.1 in c:\\users\\maske\\appdata\\roaming\\python\\python311\\site-packages (from pandas) (2024.2)\n",
      "Requirement already satisfied: tzdata>=2022.7 in c:\\users\\maske\\appdata\\roaming\\python\\python311\\site-packages (from pandas) (2024.1)\n",
      "Requirement already satisfied: six>=1.5 in c:\\users\\maske\\appdata\\roaming\\python\\python311\\site-packages (from python-dateutil>=2.8.2->pandas) (1.16.0)\n",
      "Note: you may need to restart the kernel to use updated packages.\n"
     ]
    },
    {
     "name": "stderr",
     "output_type": "stream",
     "text": [
      "DEPRECATION: Loading egg at c:\\program files\\python311\\lib\\site-packages\\vboxapi-1.0-py3.11.egg is deprecated. pip 24.3 will enforce this behaviour change. A possible replacement is to use pip for package installation. Discussion can be found at https://github.com/pypa/pip/issues/12330\n",
      "\n",
      "[notice] A new release of pip is available: 24.2 -> 25.0.1\n",
      "[notice] To update, run: python.exe -m pip install --upgrade pip\n"
     ]
    }
   ],
   "source": [
    "pip install pandas"
   ]
  },
  {
   "cell_type": "code",
   "execution_count": 22,
   "metadata": {},
   "outputs": [],
   "source": [
    "import pandas as pd\n",
    "from models.MemberProductAccount import MemberProductAccount\n",
    "from models.MemberLevelScore import MemberLevelScore\n",
    "from models.Level import Level\n",
    "from models.StandardChartData import StandardDataPoint, StandardChartData\n",
    "from models.Timeline import Timeline\n",
    "from models.LevelsFull import LevelsFull, LevelData, Movement\n"
   ]
  },
  {
   "cell_type": "code",
   "execution_count": null,
   "metadata": {},
   "outputs": [],
   "source": [
    "def load_levels(file_path):\n",
    "\n",
    "    df = pd.read_csv(file_path)\n",
    "    \n",
    "    # levels = []\n",
    "\n",
    "    # for i, row in df.iterrows():\n",
    "        \n",
    "    #     # Omits 'timestamp' since it is not a dataclass attribute\n",
    "    #     level = Level(\n",
    "    #         client_account_id=row['client_account_id'],\n",
    "    #         level_id=row['level_id'],\n",
    "    #         level_name=row['level_name'],\n",
    "    #         level_score_start=row['level_score_start'],\n",
    "    #         level_score_end=row['level_score_end']\n",
    "    #     )\n",
    "\n",
    "    #     print(level)\n",
    "        \n",
    "    #     levels.append(level)\n",
    "\n",
    "    # return levels\n",
    "\n",
    "    return df\n",
    "\n",
    "\n",
    "\n",
    "levels = load_levels('../data/levels.csv')"
   ]
  },
  {
   "cell_type": "code",
   "execution_count": 24,
   "metadata": {},
   "outputs": [
    {
     "name": "stdout",
     "output_type": "stream",
     "text": [
      "  client_account_id                timestamp  member_id level_score_type  \\\n",
      "0        federal-cu  2024-10-19 00:00:00.000       1769           MPP V4   \n",
      "1        federal-cu  2024-10-19 00:00:00.000       1785           MPP V4   \n",
      "2        federal-cu  2024-10-19 00:00:00.000       1849           MPP V4   \n",
      "3        federal-cu  2024-10-19 00:00:00.000       1857           MPP V4   \n",
      "4        federal-cu  2024-10-19 00:00:00.000       1881           MPP V4   \n",
      "\n",
      "   level_score  score_date  active_member  \n",
      "0    42.897669  2024-10-19           True  \n",
      "1    11.825811  2024-10-19           True  \n",
      "2    22.695028  2024-10-19           True  \n",
      "3    42.872833  2024-10-19           True  \n",
      "4    16.456328  2024-10-19           True  \n"
     ]
    }
   ],
   "source": [
    "# def load_member_level_scores(file_path):\n",
    "#     # Read the CSV file with headers\n",
    "#     df = pd.read_csv(file_path)  # Assuming the first row contains headers\n",
    "\n",
    "#     # Define a function to create a MemberLevelScore instance from a row\n",
    "#     def create_member_level_score(row):\n",
    "#         return MemberLevelScore(\n",
    "#             client_account_id=row['client_account_id'],  # Adjust based on CSV column names\n",
    "#             member_id=row['member_id'],\n",
    "#             level_score_type=row['level_score_type'],\n",
    "#             level_score=row['level_score'],\n",
    "#             active_member=row['active_member'],\n",
    "#             score_date=row['score_date'],  # Optional\n",
    "#             timestamp=row['timestamp']       # Optional\n",
    "#         )\n",
    "\n",
    "#     # Use apply to create instances of MemberLevelScore\n",
    "#     member_level_scores = df.apply(create_member_level_score, axis=1)\n",
    "\n",
    "#     return member_level_scores.tolist()  # Convert to list if needed\n",
    "\n",
    "def load_member_level_scores(file_path):\n",
    "\n",
    "    df = pd.read_csv(file_path)  # Assuming the first row contains headers\n",
    "\n",
    "    # member_level_scores = df.apply(lambda row: MemberLevelScore(**row), axis=1)\n",
    "\n",
    "    # return member_level_scores\n",
    "\n",
    "    return df\n",
    "\n",
    "member_level_scores = load_member_level_scores('../data/member_level_scores_history.csv')\n",
    "print(member_level_scores[:5])"
   ]
  },
  {
   "cell_type": "code",
   "execution_count": 21,
   "metadata": {},
   "outputs": [
    {
     "name": "stdout",
     "output_type": "stream",
     "text": [
      "  client_account_id                timestamp  account_id  \\\n",
      "0        federal-cu  2024-12-16 00:00:00.000     1630953   \n",
      "1        federal-cu  2024-12-16 00:00:00.000     1270245   \n",
      "2        federal-cu  2024-12-16 00:00:00.000     2680285   \n",
      "3        federal-cu  2024-12-16 00:00:00.000     2680285   \n",
      "4        federal-cu  2024-12-16 00:00:00.000     2680285   \n",
      "\n",
      "              member_product_account_id  member_id  product_id  \\\n",
      "0  02325e1d-f8a0-41d0-9b90-1a272f113908       1769           0   \n",
      "1  58fc84eb-678b-4517-a57f-2fcbdd91d2ce     189761        3000   \n",
      "2  c7ee6e69-0899-4640-bc13-f0f6df33b9ae      28369        3011   \n",
      "3  bd96899b-847a-4996-9325-9e6377e17229      28369        3011   \n",
      "4  78139254-83a0-42ac-b5ae-11a7bdf54dfb      28369        3011   \n",
      "\n",
      "  product_category_id        account_open_date       account_close_date  \\\n",
      "0     Primary Savings  1995-01-19 00:00:00.000                      NaN   \n",
      "1       Personal Loan  1991-03-25 00:00:00.000                      NaN   \n",
      "2       Personal Loan  2022-03-21 00:00:00.000  2023-08-30 00:00:00.000   \n",
      "3       Personal Loan  2023-01-12 00:00:00.000  2023-08-30 00:00:00.000   \n",
      "4       Personal Loan  2023-08-30 00:00:00.000  2023-11-09 00:00:00.000   \n",
      "\n",
      "   account_balance  ...  product_rate  product_term  monthly_payment  \\\n",
      "0              5.0  ...           NaN           NaN              NaN   \n",
      "1              0.0  ...           NaN           NaN              NaN   \n",
      "2              0.0  ...           NaN           NaN              NaN   \n",
      "3              0.0  ...           NaN           NaN              NaN   \n",
      "4              0.0  ...           NaN           NaN              NaN   \n",
      "\n",
      "   credit_limit  collateral_description  collateral_attrib_1  \\\n",
      "0           NaN                     NaN                  NaN   \n",
      "1           NaN                     NaN                  NaN   \n",
      "2           NaN                     NaN                  NaN   \n",
      "3           NaN                     NaN                  NaN   \n",
      "4           NaN                     NaN                  NaN   \n",
      "\n",
      "   collateral_attrib_2  collateral_attrib_3  collateral_attrib_4  count  \n",
      "0                  NaN                  NaN                  NaN    NaN  \n",
      "1                  NaN                  NaN                  NaN    NaN  \n",
      "2                  NaN                  NaN                  NaN    NaN  \n",
      "3                  NaN                  NaN                  NaN    NaN  \n",
      "4                  NaN                  NaN                  NaN    NaN  \n",
      "\n",
      "[5 rows x 22 columns]\n"
     ]
    }
   ],
   "source": [
    "def load_member_product_accounts(file_path):\n",
    "\n",
    "    df = pd.read_csv(file_path)\n",
    "\n",
    "    # member_product_accounts = df.apply(lambda row: MemberProductAccount(**row), axis=1)\n",
    "\n",
    "    # return member_product_accounts\n",
    "\n",
    "    return df\n",
    "\n",
    "member_product_accounts = load_member_product_accounts('../data/member_product_accounts.csv')\n",
    "print(member_product_accounts[:5])"
   ]
  },
  {
   "cell_type": "code",
   "execution_count": null,
   "metadata": {},
   "outputs": [],
   "source": [
    "def create_levels_full(levels, member_level_scores, member_product_accounts):\n",
    "\n",
    "    levels_data = []\n",
    "\n",
    "    for level in levels:\n",
    "\n",
    "        level_members = []\n",
    "\n",
    "        for level in levels:\n",
    "            level_members = [member for member in member_level_scores if level.level_score_start <= member['level_score'] <= level.level_score_end]\n",
    "            member_count = len(level_members)\n",
    "\n",
    "            level_members_ids = [level.member_id for level in level_members]\n",
    "            level_member_products = [product for product in member_product_accounts if member_product_accounts['member_id'] in level_members_ids]\n",
    "            if len(level_members) > 0:\n",
    "                avg_product_count = len(level_member_products) / len(level_members)\n",
    "            else:\n",
    "                avg_product_count = 0\n",
    "            \n",
    "            "
   ]
  }
 ],
 "metadata": {
  "kernelspec": {
   "display_name": "Python 3",
   "language": "python",
   "name": "python3"
  },
  "language_info": {
   "codemirror_mode": {
    "name": "ipython",
    "version": 3
   },
   "file_extension": ".py",
   "mimetype": "text/x-python",
   "name": "python",
   "nbconvert_exporter": "python",
   "pygments_lexer": "ipython3",
   "version": "3.11.8"
  }
 },
 "nbformat": 4,
 "nbformat_minor": 2
}
